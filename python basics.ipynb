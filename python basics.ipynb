{
 "cells": [
  {
   "cell_type": "markdown",
   "id": "18517631",
   "metadata": {},
   "source": [
    "# python basics\n",
    "\n",
    "- output and input\n",
    "- variables in python\n",
    "- type conversions in python\n",
    "- operators in python\n",
    "- conditional statements\n"
   ]
  },
  {
   "cell_type": "code",
   "execution_count": 1,
   "id": "3d4599c8",
   "metadata": {},
   "outputs": [
    {
     "name": "stdout",
     "output_type": "stream",
     "text": [
      "hello panda\n"
     ]
    }
   ],
   "source": [
    "print(\"hello panda\")"
   ]
  },
  {
   "cell_type": "code",
   "execution_count": 3,
   "id": "d8776d2d",
   "metadata": {},
   "outputs": [
    {
     "name": "stdout",
     "output_type": "stream",
     "text": [
      "my name is sruthi\n"
     ]
    }
   ],
   "source": [
    "print(\"my name is\",\"sruthi\")"
   ]
  },
  {
   "cell_type": "code",
   "execution_count": 4,
   "id": "3cac3bc7",
   "metadata": {},
   "outputs": [
    {
     "name": "stdout",
     "output_type": "stream",
     "text": [
      "todays date id-29\n"
     ]
    }
   ],
   "source": [
    "print(\"todays date id\",29,sep='-')"
   ]
  },
  {
   "cell_type": "code",
   "execution_count": 5,
   "id": "eef8c138",
   "metadata": {},
   "outputs": [
    {
     "name": "stdout",
     "output_type": "stream",
     "text": [
      "1\t2\t3\t4\t5\t6\n"
     ]
    }
   ],
   "source": [
    "print(1,2,3,4,5,6,sep='\\t')"
   ]
  },
  {
   "cell_type": "code",
   "execution_count": 6,
   "id": "5be146dc",
   "metadata": {},
   "outputs": [
    {
     "name": "stdout",
     "output_type": "stream",
     "text": [
      "1abc2abc3abc4abc5abc6\n"
     ]
    }
   ],
   "source": [
    "print(1,2,3,4,5,6,sep='abc')"
   ]
  },
  {
   "cell_type": "code",
   "execution_count": 7,
   "id": "06f4f088",
   "metadata": {},
   "outputs": [
    {
     "name": "stdout",
     "output_type": "stream",
     "text": [
      "hello panda\thello panda\n",
      "hello panda\n"
     ]
    }
   ],
   "source": [
    "print(\"hello panda\",end='\\t')\n",
    "print(\"hello panda\")\n",
    "print(\"hello panda\")"
   ]
  },
  {
   "cell_type": "markdown",
   "id": "039a2491",
   "metadata": {},
   "source": [
    "# variables\n",
    "\n",
    "**named memory location which hold some value**\n",
    "\n",
    "## properties of variables\n",
    "\n",
    "- it shouldnt start with a number\n",
    "- no special character should be included in the variable name except `_`\n",
    "- keywords aare not allowed"
   ]
  },
  {
   "cell_type": "code",
   "execution_count": 12,
   "id": "4435db90",
   "metadata": {},
   "outputs": [
    {
     "ename": "SyntaxError",
     "evalue": "cannot assign to operator (<ipython-input-12-f27d5fe3d3f2>, line 4)",
     "output_type": "error",
     "traceback": [
      "\u001b[1;36m  File \u001b[1;32m\"<ipython-input-12-f27d5fe3d3f2>\"\u001b[1;36m, line \u001b[1;32m4\u001b[0m\n\u001b[1;33m    a-b=9-1\u001b[0m\n\u001b[1;37m    ^\u001b[0m\n\u001b[1;31mSyntaxError\u001b[0m\u001b[1;31m:\u001b[0m cannot assign to operator\n"
     ]
    }
   ],
   "source": [
    "a=55\n",
    "_a=4985\n",
    "\n",
    "a-b=9-1\n",
    "\n",
    "a9='python'\n",
    "a9_='SRUTHI'"
   ]
  },
  {
   "cell_type": "markdown",
   "id": "de37ba92",
   "metadata": {},
   "source": [
    "# data types\n",
    "\n",
    "- primary->int,float,complex,string,boolean\n",
    "- secondary-> containers->list,touples,dictionary,set\n"
   ]
  },
  {
   "cell_type": "code",
   "execution_count": 15,
   "id": "b16f7f14",
   "metadata": {},
   "outputs": [
    {
     "name": "stdout",
     "output_type": "stream",
     "text": [
      "26\n",
      "56.91\n",
      "(5+4j)\n",
      "true\n",
      "a+5/.,;\n",
      "['python', 56, (5+8j), 56.99]\n",
      "('python', 56, (5+8j), 56.99)\n",
      "{'name': 'pyhton'}\n",
      "{1, 2, 3, 4}\n"
     ]
    }
   ],
   "source": [
    "a=26\n",
    "b=56.91\n",
    "c=5+4j\n",
    "d='true'\n",
    "e='a+5/.,;'\n",
    "f=['python',56,5+8j,56.99]\n",
    "g=('python',56,5+8j,56.99)\n",
    "h={'name':'pyhton'}\n",
    "i={1,2,3,4}\n",
    "print(a)\n",
    "print(b)\n",
    "print(c)\n",
    "print(d)\n",
    "print(e)\n",
    "print(f)\n",
    "print(g)\n",
    "print(h)\n",
    "print(i)\n",
    "\n"
   ]
  },
  {
   "cell_type": "code",
   "execution_count": 16,
   "id": "54a4069b",
   "metadata": {},
   "outputs": [
    {
     "name": "stdout",
     "output_type": "stream",
     "text": [
      " 12 3\n"
     ]
    }
   ],
   "source": [
    "a=input()"
   ]
  },
  {
   "cell_type": "code",
   "execution_count": 19,
   "id": "4b3b2136",
   "metadata": {},
   "outputs": [
    {
     "name": "stdout",
     "output_type": "stream",
     "text": [
      "<class 'int'>\n"
     ]
    }
   ],
   "source": [
    "b=598\n",
    "print(type(b))"
   ]
  },
  {
   "cell_type": "code",
   "execution_count": 22,
   "id": "4ac41bdb",
   "metadata": {},
   "outputs": [
    {
     "name": "stdout",
     "output_type": "stream",
     "text": [
      "1196\n"
     ]
    }
   ],
   "source": [
    "print(a+b)"
   ]
  },
  {
   "cell_type": "markdown",
   "id": "abf538b7",
   "metadata": {},
   "source": [
    "# number system\n",
    "\n",
    "- decimal->10\n",
    "- \n"
   ]
  },
  {
   "cell_type": "code",
   "execution_count": 24,
   "id": "ede87a00",
   "metadata": {},
   "outputs": [
    {
     "name": "stdout",
     "output_type": "stream",
     "text": [
      "0 1 False 0 False\n"
     ]
    }
   ],
   "source": [
    "a=1\n",
    "b=0\n",
    "c='0'\n",
    "print(a and b,a or b,not a,a and c,not c)"
   ]
  },
  {
   "cell_type": "code",
   "execution_count": 25,
   "id": "06a29050",
   "metadata": {},
   "outputs": [
    {
     "name": "stdout",
     "output_type": "stream",
     "text": [
      "1 1\n"
     ]
    }
   ],
   "source": [
    "print(c and a,a or c)"
   ]
  },
  {
   "cell_type": "code",
   "execution_count": 26,
   "id": "93293eca",
   "metadata": {},
   "outputs": [
    {
     "name": "stdout",
     "output_type": "stream",
     "text": [
      "6\n"
     ]
    }
   ],
   "source": [
    "a=5\n",
    "b=6\n",
    "print(a and b)"
   ]
  },
  {
   "cell_type": "code",
   "execution_count": 27,
   "id": "86dcfebc",
   "metadata": {},
   "outputs": [
    {
     "name": "stdout",
     "output_type": "stream",
     "text": [
      "True False False\n"
     ]
    }
   ],
   "source": [
    "a=5\n",
    "b=6\n",
    "print(a<b,a>b,a==b)"
   ]
  },
  {
   "cell_type": "markdown",
   "id": "f48b0ed2",
   "metadata": {},
   "source": [
    "# bitwise operators\n",
    "- works on binary daata\n",
    "- &,|,~,^\n",
    "\n"
   ]
  },
  {
   "cell_type": "code",
   "execution_count": 33,
   "id": "29f0b678",
   "metadata": {},
   "outputs": [
    {
     "name": "stdout",
     "output_type": "stream",
     "text": [
      "0 30 -21\n"
     ]
    }
   ],
   "source": [
    "a=20\n",
    "b=10\n",
    "print(a&b,a|b,~a)\n"
   ]
  },
  {
   "cell_type": "code",
   "execution_count": null,
   "id": "a9dd2b00",
   "metadata": {},
   "outputs": [],
   "source": [
    "a=5\n",
    "a=a+10\n",
    "a+=10\n"
   ]
  },
  {
   "cell_type": "markdown",
   "id": "5408f39f",
   "metadata": {},
   "source": [
    "# membership operators"
   ]
  },
  {
   "cell_type": "code",
   "execution_count": 35,
   "id": "81bdffbf",
   "metadata": {},
   "outputs": [
    {
     "name": "stdout",
     "output_type": "stream",
     "text": [
      "False False True False True\n"
     ]
    }
   ],
   "source": [
    "a='Python'\n",
    "b='Py'\n",
    "c='py'\n",
    "print(a in b,a in c,a not in c,c in a,b in a)"
   ]
  },
  {
   "cell_type": "markdown",
   "id": "efc3acc8",
   "metadata": {},
   "source": [
    "# identity operators\n"
   ]
  },
  {
   "cell_type": "code",
   "execution_count": 36,
   "id": "baebb56a",
   "metadata": {},
   "outputs": [
    {
     "name": "stdout",
     "output_type": "stream",
     "text": [
      "True True True\n"
     ]
    }
   ],
   "source": [
    "a=5\n",
    "b=5.5\n",
    "c=5\n",
    "d=[1,2,3]\n",
    "e=[1,2,3]\n",
    "f=d\n",
    "print(a==c,d==e,d==f)"
   ]
  },
  {
   "cell_type": "code",
   "execution_count": 37,
   "id": "7f4fcda8",
   "metadata": {},
   "outputs": [
    {
     "name": "stdout",
     "output_type": "stream",
     "text": [
      "140732912445360\n",
      "140732912445360\n",
      "3159249732288\n",
      "3159249732288\n",
      "3159249814272\n"
     ]
    }
   ],
   "source": [
    "print(id(a))\n",
    "print(id(c))\n",
    "print(id(d))\n",
    "print(id(f))\n",
    "print(id(e))"
   ]
  },
  {
   "cell_type": "code",
   "execution_count": 38,
   "id": "112a3c84",
   "metadata": {},
   "outputs": [
    {
     "name": "stdout",
     "output_type": "stream",
     "text": [
      "[1, 2, 3, 'python']\n"
     ]
    }
   ],
   "source": [
    "d.append('python')\n",
    "print(d)"
   ]
  },
  {
   "cell_type": "code",
   "execution_count": 39,
   "id": "4a3da8bd",
   "metadata": {},
   "outputs": [
    {
     "name": "stdout",
     "output_type": "stream",
     "text": [
      "[1, 2, 3, 'python']\n"
     ]
    }
   ],
   "source": [
    "print(f)"
   ]
  },
  {
   "cell_type": "code",
   "execution_count": 42,
   "id": "c8c4a78c",
   "metadata": {},
   "outputs": [
    {
     "name": "stdout",
     "output_type": "stream",
     "text": [
      "[1, 2, 3, 'python'] [1, 2, 3] [1, 2, 3, 'python']\n"
     ]
    }
   ],
   "source": [
    "print(d,e,f)"
   ]
  },
  {
   "cell_type": "code",
   "execution_count": 45,
   "id": "089baed1",
   "metadata": {},
   "outputs": [
    {
     "name": "stdout",
     "output_type": "stream",
     "text": [
      "False True False True\n"
     ]
    }
   ],
   "source": [
    "print(d is e,d is f,e is f,d is not e)"
   ]
  },
  {
   "cell_type": "code",
   "execution_count": null,
   "id": "c4982d94",
   "metadata": {},
   "outputs": [],
   "source": []
  }
 ],
 "metadata": {
  "kernelspec": {
   "display_name": "Python 3",
   "language": "python",
   "name": "python3"
  },
  "language_info": {
   "codemirror_mode": {
    "name": "ipython",
    "version": 3
   },
   "file_extension": ".py",
   "mimetype": "text/x-python",
   "name": "python",
   "nbconvert_exporter": "python",
   "pygments_lexer": "ipython3",
   "version": "3.8.8"
  }
 },
 "nbformat": 4,
 "nbformat_minor": 5
}
